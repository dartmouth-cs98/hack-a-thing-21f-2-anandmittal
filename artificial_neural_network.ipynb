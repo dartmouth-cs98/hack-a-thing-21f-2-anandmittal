{
  "nbformat": 4,
  "nbformat_minor": 2,
  "metadata": {
    "colab": {
      "name": "Artificial Neural Network",
      "provenance": [],
      "collapsed_sections": [],
      "toc_visible": true
    },
    "kernelspec": {
      "name": "python3",
      "display_name": "Python 3.9.0 64-bit"
    },
    "language_info": {
      "name": "python",
      "version": "3.9.0",
      "mimetype": "text/x-python",
      "codemirror_mode": {
        "name": "ipython",
        "version": 3
      },
      "pygments_lexer": "ipython3",
      "nbconvert_exporter": "python",
      "file_extension": ".py"
    },
    "interpreter": {
      "hash": "85cb5057302a191b2061ff39747e3b9c34b3528f454435c39db1fb97a1dd2df0"
    }
  },
  "cells": [
    {
      "cell_type": "markdown",
      "source": [
        "# Artificial Neural Network"
      ],
      "metadata": {
        "id": "3cbb7fRy-eyr",
        "colab_type": "text"
      }
    },
    {
      "cell_type": "markdown",
      "source": [
        "### Importing the libraries"
      ],
      "metadata": {
        "id": "8sNDnxE2-pwE",
        "colab_type": "text"
      }
    },
    {
      "cell_type": "code",
      "execution_count": 1,
      "source": [
        "import numpy as np\r\n",
        "import pandas as pd\r\n",
        "import tensorflow as tf"
      ],
      "outputs": [],
      "metadata": {
        "id": "lxChR1Rk-umf",
        "colab_type": "code",
        "colab": {}
      }
    },
    {
      "cell_type": "code",
      "execution_count": 2,
      "source": [
        "tf.__version__"
      ],
      "outputs": [
        {
          "output_type": "execute_result",
          "data": {
            "text/plain": [
              "'2.6.0'"
            ]
          },
          "metadata": {},
          "execution_count": 2
        }
      ],
      "metadata": {
        "id": "uBTqR3nacj0e",
        "colab_type": "code",
        "colab": {
          "base_uri": "https://localhost:8080/",
          "height": 34
        },
        "outputId": "4c0bd183-e424-429a-9fba-ceb841c06888"
      }
    },
    {
      "cell_type": "markdown",
      "source": [
        "## Part 1 - Data Preprocessing"
      ],
      "metadata": {
        "id": "AG3FQEch-yuA",
        "colab_type": "text"
      }
    },
    {
      "cell_type": "markdown",
      "source": [
        "### Importing the dataset"
      ],
      "metadata": {
        "id": "-4zq8Mza_D9O",
        "colab_type": "text"
      }
    },
    {
      "cell_type": "code",
      "execution_count": 4,
      "source": [
        "dataset = pd.read_excel('Folds5x2_pp.xlsx')\r\n",
        "X = dataset.iloc[:, :-1].values\r\n",
        "y = dataset.iloc[:, -1].values"
      ],
      "outputs": [],
      "metadata": {
        "id": "B9CV13Co_HHM",
        "colab_type": "code",
        "colab": {}
      }
    },
    {
      "cell_type": "markdown",
      "source": [
        "### Splitting the dataset into the Training set and Test set"
      ],
      "metadata": {
        "id": "VC6omXel_Up0",
        "colab_type": "text"
      }
    },
    {
      "cell_type": "code",
      "execution_count": 5,
      "source": [
        "from sklearn.model_selection import train_test_split\r\n",
        "X_train, X_test, y_train, y_test = train_test_split(X, y, test_size = 0.2, random_state = 0)"
      ],
      "outputs": [],
      "metadata": {
        "id": "L5edeb2r_agx",
        "colab_type": "code",
        "colab": {}
      }
    },
    {
      "cell_type": "markdown",
      "source": [
        "## Part 2 - Building the ANN"
      ],
      "metadata": {
        "id": "_mSLlAT9_eyI",
        "colab_type": "text"
      }
    },
    {
      "cell_type": "markdown",
      "source": [
        "### Initializing the ANN"
      ],
      "metadata": {
        "id": "CsBULd_f_wLY",
        "colab_type": "text"
      }
    },
    {
      "cell_type": "code",
      "execution_count": 6,
      "source": [
        "ann = tf.keras.models.Sequential()"
      ],
      "outputs": [],
      "metadata": {
        "id": "J6Hd97Ls__Nz",
        "colab_type": "code",
        "colab": {}
      }
    },
    {
      "cell_type": "markdown",
      "source": [
        "### Adding the input layer and the first hidden layer"
      ],
      "metadata": {
        "id": "iitAFJS_ABUn",
        "colab_type": "text"
      }
    },
    {
      "cell_type": "code",
      "execution_count": 7,
      "source": [
        "ann.add(tf.keras.layers.Dense(units=6, activation='relu'))"
      ],
      "outputs": [],
      "metadata": {
        "id": "ksO_Vv40AHix",
        "colab_type": "code",
        "colab": {}
      }
    },
    {
      "cell_type": "markdown",
      "source": [
        "### Adding the second hidden layer"
      ],
      "metadata": {
        "id": "-lb4kK_wAKbs",
        "colab_type": "text"
      }
    },
    {
      "cell_type": "code",
      "execution_count": 8,
      "source": [
        "ann.add(tf.keras.layers.Dense(units=6, activation='relu'))"
      ],
      "outputs": [],
      "metadata": {
        "id": "c2357OqEAQOQ",
        "colab_type": "code",
        "colab": {}
      }
    },
    {
      "cell_type": "markdown",
      "source": [
        "### Adding the output layer"
      ],
      "metadata": {
        "id": "jwMOmKb3AdBY",
        "colab_type": "text"
      }
    },
    {
      "cell_type": "code",
      "execution_count": 9,
      "source": [
        "ann.add(tf.keras.layers.Dense(units=1))"
      ],
      "outputs": [],
      "metadata": {
        "id": "YFATpzsUAkLL",
        "colab_type": "code",
        "colab": {}
      }
    },
    {
      "cell_type": "markdown",
      "source": [
        "## Part 3 - Training the ANN"
      ],
      "metadata": {
        "id": "fq7e4fF6A1yy",
        "colab_type": "text"
      }
    },
    {
      "cell_type": "markdown",
      "source": [
        "### Compiling the ANN"
      ],
      "metadata": {
        "id": "qDeylAs2An25",
        "colab_type": "text"
      }
    },
    {
      "cell_type": "code",
      "execution_count": 10,
      "source": [
        "ann.compile(optimizer = 'adam', loss = 'mean_squared_error')"
      ],
      "outputs": [],
      "metadata": {
        "id": "pesgbWlCAtB4",
        "colab_type": "code",
        "colab": {}
      }
    },
    {
      "cell_type": "markdown",
      "source": [
        "### Training the ANN model on the Training set"
      ],
      "metadata": {
        "id": "YjVuiybYOo7r",
        "colab_type": "text"
      }
    },
    {
      "cell_type": "code",
      "execution_count": 11,
      "source": [
        "ann.fit(X_train, y_train, batch_size = 32, epochs = 100)"
      ],
      "outputs": [
        {
          "output_type": "stream",
          "name": "stdout",
          "text": [
            "Epoch 1/100\n",
            "240/240 [==============================] - 1s 704us/step - loss: 22762.1621\n",
            "Epoch 2/100\n",
            "240/240 [==============================] - 0s 668us/step - loss: 314.3807\n",
            "Epoch 3/100\n",
            "240/240 [==============================] - 0s 681us/step - loss: 242.8941\n",
            "Epoch 4/100\n",
            "240/240 [==============================] - 0s 685us/step - loss: 163.8177\n",
            "Epoch 5/100\n",
            "240/240 [==============================] - 0s 675us/step - loss: 108.5011\n",
            "Epoch 6/100\n",
            "240/240 [==============================] - 0s 714us/step - loss: 76.8513\n",
            "Epoch 7/100\n",
            "240/240 [==============================] - 0s 721us/step - loss: 60.6807\n",
            "Epoch 8/100\n",
            "240/240 [==============================] - 0s 877us/step - loss: 47.9032\n",
            "Epoch 9/100\n",
            "240/240 [==============================] - 0s 788us/step - loss: 40.9959\n",
            "Epoch 10/100\n",
            "240/240 [==============================] - 0s 731us/step - loss: 37.8318\n",
            "Epoch 11/100\n",
            "240/240 [==============================] - 0s 758us/step - loss: 35.0558\n",
            "Epoch 12/100\n",
            "240/240 [==============================] - 0s 837us/step - loss: 33.7226\n",
            "Epoch 13/100\n",
            "240/240 [==============================] - 0s 692us/step - loss: 33.4860\n",
            "Epoch 14/100\n",
            "240/240 [==============================] - 0s 830us/step - loss: 32.6139\n",
            "Epoch 15/100\n",
            "240/240 [==============================] - 0s 751us/step - loss: 31.5179\n",
            "Epoch 16/100\n",
            "240/240 [==============================] - 0s 788us/step - loss: 30.5142\n",
            "Epoch 17/100\n",
            "240/240 [==============================] - 0s 691us/step - loss: 31.2095\n",
            "Epoch 18/100\n",
            "240/240 [==============================] - 0s 628us/step - loss: 29.8964\n",
            "Epoch 19/100\n",
            "240/240 [==============================] - 0s 601us/step - loss: 29.2758\n",
            "Epoch 20/100\n",
            "240/240 [==============================] - 0s 604us/step - loss: 29.2143\n",
            "Epoch 21/100\n",
            "240/240 [==============================] - 0s 603us/step - loss: 28.5431\n",
            "Epoch 22/100\n",
            "240/240 [==============================] - 0s 619us/step - loss: 28.2832\n",
            "Epoch 23/100\n",
            "240/240 [==============================] - 0s 666us/step - loss: 28.3445\n",
            "Epoch 24/100\n",
            "240/240 [==============================] - 0s 629us/step - loss: 28.5432\n",
            "Epoch 25/100\n",
            "240/240 [==============================] - 0s 612us/step - loss: 30.5323\n",
            "Epoch 26/100\n",
            "240/240 [==============================] - 0s 604us/step - loss: 28.0171\n",
            "Epoch 27/100\n",
            "240/240 [==============================] - 0s 628us/step - loss: 29.3662\n",
            "Epoch 28/100\n",
            "240/240 [==============================] - 0s 623us/step - loss: 29.7929\n",
            "Epoch 29/100\n",
            "240/240 [==============================] - 0s 629us/step - loss: 28.9507\n",
            "Epoch 30/100\n",
            "240/240 [==============================] - 0s 633us/step - loss: 27.8561\n",
            "Epoch 31/100\n",
            "240/240 [==============================] - 0s 628us/step - loss: 28.9149\n",
            "Epoch 32/100\n",
            "240/240 [==============================] - 0s 602us/step - loss: 28.0697\n",
            "Epoch 33/100\n",
            "240/240 [==============================] - 0s 666us/step - loss: 32.1520\n",
            "Epoch 34/100\n",
            "240/240 [==============================] - 0s 838us/step - loss: 30.6862\n",
            "Epoch 35/100\n",
            "240/240 [==============================] - 0s 713us/step - loss: 27.7566\n",
            "Epoch 36/100\n",
            "240/240 [==============================] - 0s 655us/step - loss: 29.4912\n",
            "Epoch 37/100\n",
            "240/240 [==============================] - 0s 592us/step - loss: 29.1794\n",
            "Epoch 38/100\n",
            "240/240 [==============================] - 0s 834us/step - loss: 28.4759\n",
            "Epoch 39/100\n",
            "240/240 [==============================] - 0s 766us/step - loss: 29.3557\n",
            "Epoch 40/100\n",
            "240/240 [==============================] - 0s 691us/step - loss: 28.2829\n",
            "Epoch 41/100\n",
            "240/240 [==============================] - 0s 778us/step - loss: 29.0822\n",
            "Epoch 42/100\n",
            "240/240 [==============================] - 0s 655us/step - loss: 28.0657\n",
            "Epoch 43/100\n",
            "240/240 [==============================] - 0s 584us/step - loss: 28.9372\n",
            "Epoch 44/100\n",
            "240/240 [==============================] - 0s 734us/step - loss: 28.1684\n",
            "Epoch 45/100\n",
            "240/240 [==============================] - 0s 761us/step - loss: 28.1717\n",
            "Epoch 46/100\n",
            "240/240 [==============================] - 0s 652us/step - loss: 29.4942\n",
            "Epoch 47/100\n",
            "240/240 [==============================] - 0s 553us/step - loss: 29.6986\n",
            "Epoch 48/100\n",
            "240/240 [==============================] - 0s 652us/step - loss: 30.4834\n",
            "Epoch 49/100\n",
            "240/240 [==============================] - 0s 801us/step - loss: 27.9641\n",
            "Epoch 50/100\n",
            "240/240 [==============================] - 0s 663us/step - loss: 27.8679\n",
            "Epoch 51/100\n",
            "240/240 [==============================] - 0s 742us/step - loss: 28.5705\n",
            "Epoch 52/100\n",
            "240/240 [==============================] - 0s 602us/step - loss: 28.7032\n",
            "Epoch 53/100\n",
            "240/240 [==============================] - 0s 648us/step - loss: 28.2823\n",
            "Epoch 54/100\n",
            "240/240 [==============================] - 0s 625us/step - loss: 30.5758\n",
            "Epoch 55/100\n",
            "240/240 [==============================] - 0s 622us/step - loss: 29.8830\n",
            "Epoch 56/100\n",
            "240/240 [==============================] - 0s 635us/step - loss: 28.3676\n",
            "Epoch 57/100\n",
            "240/240 [==============================] - 0s 610us/step - loss: 28.8392\n",
            "Epoch 58/100\n",
            "240/240 [==============================] - 0s 627us/step - loss: 28.9486\n",
            "Epoch 59/100\n",
            "240/240 [==============================] - 0s 631us/step - loss: 29.2347\n",
            "Epoch 60/100\n",
            "240/240 [==============================] - 0s 627us/step - loss: 28.1636\n",
            "Epoch 61/100\n",
            "240/240 [==============================] - 0s 617us/step - loss: 28.8256\n",
            "Epoch 62/100\n",
            "240/240 [==============================] - 0s 603us/step - loss: 28.5542\n",
            "Epoch 63/100\n",
            "240/240 [==============================] - 0s 651us/step - loss: 28.5259\n",
            "Epoch 64/100\n",
            "240/240 [==============================] - 0s 661us/step - loss: 28.5402\n",
            "Epoch 65/100\n",
            "240/240 [==============================] - 0s 668us/step - loss: 28.5145\n",
            "Epoch 66/100\n",
            "240/240 [==============================] - 0s 648us/step - loss: 28.1376\n",
            "Epoch 67/100\n",
            "240/240 [==============================] - 0s 642us/step - loss: 28.0903\n",
            "Epoch 68/100\n",
            "240/240 [==============================] - 0s 621us/step - loss: 29.1967\n",
            "Epoch 69/100\n",
            "240/240 [==============================] - 0s 605us/step - loss: 27.9958\n",
            "Epoch 70/100\n",
            "240/240 [==============================] - 0s 720us/step - loss: 28.4810\n",
            "Epoch 71/100\n",
            "240/240 [==============================] - 0s 833us/step - loss: 29.1386\n",
            "Epoch 72/100\n",
            "240/240 [==============================] - 0s 780us/step - loss: 28.1956\n",
            "Epoch 73/100\n",
            "240/240 [==============================] - 0s 771us/step - loss: 28.7350\n",
            "Epoch 74/100\n",
            "240/240 [==============================] - 0s 744us/step - loss: 28.5205\n",
            "Epoch 75/100\n",
            "240/240 [==============================] - 0s 816us/step - loss: 27.6972\n",
            "Epoch 76/100\n",
            "240/240 [==============================] - 0s 653us/step - loss: 28.9124\n",
            "Epoch 77/100\n",
            "240/240 [==============================] - 0s 910us/step - loss: 28.6994\n",
            "Epoch 78/100\n",
            "240/240 [==============================] - 0s 704us/step - loss: 28.0955\n",
            "Epoch 79/100\n",
            "240/240 [==============================] - 0s 838us/step - loss: 28.9052\n",
            "Epoch 80/100\n",
            "240/240 [==============================] - 0s 751us/step - loss: 29.6296\n",
            "Epoch 81/100\n",
            "240/240 [==============================] - 0s 672us/step - loss: 28.5171\n",
            "Epoch 82/100\n",
            "240/240 [==============================] - 0s 667us/step - loss: 29.3567\n",
            "Epoch 83/100\n",
            "240/240 [==============================] - 0s 643us/step - loss: 29.8771\n",
            "Epoch 84/100\n",
            "240/240 [==============================] - 0s 617us/step - loss: 28.7106\n",
            "Epoch 85/100\n",
            "240/240 [==============================] - 0s 624us/step - loss: 28.8124\n",
            "Epoch 86/100\n",
            "240/240 [==============================] - 0s 647us/step - loss: 29.8274\n",
            "Epoch 87/100\n",
            "240/240 [==============================] - 0s 601us/step - loss: 27.8594\n",
            "Epoch 88/100\n",
            "240/240 [==============================] - 0s 655us/step - loss: 27.9748\n",
            "Epoch 89/100\n",
            "240/240 [==============================] - 0s 641us/step - loss: 27.9464\n",
            "Epoch 90/100\n",
            "240/240 [==============================] - 0s 659us/step - loss: 28.1509\n",
            "Epoch 91/100\n",
            "240/240 [==============================] - 0s 645us/step - loss: 28.2459\n",
            "Epoch 92/100\n",
            "240/240 [==============================] - 0s 629us/step - loss: 28.9421\n",
            "Epoch 93/100\n",
            "240/240 [==============================] - 0s 654us/step - loss: 27.6050\n",
            "Epoch 94/100\n",
            "240/240 [==============================] - 0s 629us/step - loss: 27.7608\n",
            "Epoch 95/100\n",
            "240/240 [==============================] - 0s 639us/step - loss: 28.9893\n",
            "Epoch 96/100\n",
            "240/240 [==============================] - 0s 626us/step - loss: 28.5254\n",
            "Epoch 97/100\n",
            "240/240 [==============================] - 0s 614us/step - loss: 28.5185\n",
            "Epoch 98/100\n",
            "240/240 [==============================] - 0s 655us/step - loss: 28.1138\n",
            "Epoch 99/100\n",
            "240/240 [==============================] - 0s 648us/step - loss: 29.0563\n",
            "Epoch 100/100\n",
            "240/240 [==============================] - 0s 660us/step - loss: 28.6342\n"
          ]
        },
        {
          "output_type": "execute_result",
          "data": {
            "text/plain": [
              "<keras.callbacks.History at 0x1a006ef5730>"
            ]
          },
          "metadata": {},
          "execution_count": 11
        }
      ],
      "metadata": {
        "id": "c_vV-tiiA5zn",
        "colab_type": "code",
        "colab": {
          "base_uri": "https://localhost:8080/",
          "height": 1000
        },
        "outputId": "4a2b6ee6-ed75-4698-9069-b250e613803f"
      }
    },
    {
      "cell_type": "markdown",
      "source": [
        "### Predicting the results of the Test set"
      ],
      "metadata": {
        "id": "0H0zKKNEBLD5",
        "colab_type": "text"
      }
    },
    {
      "cell_type": "code",
      "execution_count": 12,
      "source": [
        "y_pred = ann.predict(X_test)\r\n",
        "np.set_printoptions(precision=2)\r\n",
        "print(np.concatenate((y_pred.reshape(len(y_pred),1), y_test.reshape(len(y_test),1)),1))"
      ],
      "outputs": [
        {
          "output_type": "stream",
          "name": "stdout",
          "text": [
            "[[430.33 431.23]\n",
            " [461.29 460.01]\n",
            " [464.79 461.14]\n",
            " ...\n",
            " [471.99 473.26]\n",
            " [438.88 438.  ]\n",
            " [458.03 463.28]]\n"
          ]
        }
      ],
      "metadata": {
        "id": "IA0yApEmBG1X",
        "colab_type": "code",
        "colab": {
          "base_uri": "https://localhost:8080/",
          "height": 134
        },
        "outputId": "cb981e1f-9204-4a2a-fece-9d66a6919189"
      }
    },
    {
      "cell_type": "code",
      "execution_count": null,
      "source": [],
      "outputs": [],
      "metadata": {}
    }
  ]
}